{
  "nbformat": 4,
  "nbformat_minor": 0,
  "metadata": {
    "kernelspec": {
      "display_name": "Python 3",
      "language": "python",
      "name": "python3"
    },
    "language_info": {
      "codemirror_mode": {
        "name": "ipython",
        "version": 3
      },
      "file_extension": ".py",
      "mimetype": "text/x-python",
      "name": "python",
      "nbconvert_exporter": "python",
      "pygments_lexer": "ipython3",
      "version": "3.7.6"
    },
    "colab": {
      "name": "SnowNLP.ipynb",
      "provenance": []
    }
  },
  "cells": [
    {
      "cell_type": "code",
      "metadata": {
        "id": "1HAlquss-5V4",
        "colab": {
          "base_uri": "https://localhost:8080/"
        },
        "outputId": "d3ea96d2-f458-4bb5-eccf-d2ff5ed92da8"
      },
      "source": [
        "import pandas as pd\n",
        "import numpy as np\n",
        "!pip install snownlp\n",
        "from snownlp import SnowNLP"
      ],
      "execution_count": null,
      "outputs": [
        {
          "output_type": "stream",
          "text": [
            "Collecting snownlp\n",
            "\u001b[?25l  Downloading https://files.pythonhosted.org/packages/3d/b3/37567686662100d3bce62d3b0f2adec18ab4b9ff2b61abd7a61c39343c1d/snownlp-0.12.3.tar.gz (37.6MB)\n",
            "\u001b[K     |████████████████████████████████| 37.6MB 1.4MB/s \n",
            "\u001b[?25hBuilding wheels for collected packages: snownlp\n",
            "  Building wheel for snownlp (setup.py) ... \u001b[?25l\u001b[?25hdone\n",
            "  Created wheel for snownlp: filename=snownlp-0.12.3-cp36-none-any.whl size=37760957 sha256=181179d6feaa71831370dadf31bb71146ebfee443425e06a71965c6cdef0345d\n",
            "  Stored in directory: /root/.cache/pip/wheels/f3/81/25/7c197493bd7daf177016f1a951c5c3a53b1c7e9339fd11ec8f\n",
            "Successfully built snownlp\n",
            "Installing collected packages: snownlp\n",
            "Successfully installed snownlp-0.12.3\n"
          ],
          "name": "stdout"
        }
      ]
    },
    {
      "cell_type": "code",
      "metadata": {
        "id": "Vi7mGBNe-5V6"
      },
      "source": [
        "filename = 'tsmc-2'\n",
        "df = pd.read_csv(filename+'.csv', encoding='utf-8', parse_dates=True)\n",
        "# df['date'] = df['日期']+'/2020'\n",
        "df = df.drop(columns = ['Unnamed: 0'])\n",
        "# df = df.drop(columns = ['日期'])\n",
        "# df['date']= pd.to_datetime(df['date']) \n",
        "# df = df.sort_values(by='date')\n",
        "# df['標題'] = df['標題'].str.strip('Re: ')\n"
      ],
      "execution_count": null,
      "outputs": []
    },
    {
      "cell_type": "code",
      "metadata": {
        "id": "7zLeBSEdO658",
        "colab": {
          "base_uri": "https://localhost:8080/",
          "height": 407
        },
        "outputId": "8cc10a6d-49fd-4f06-864e-a269e59056e4"
      },
      "source": [
        "content = df['標題']\n",
        "s_list = []\n",
        "for topic in  content: \n",
        "  s=SnowNLP(topic)\n",
        "  senti = s.sentiments\n",
        "  s_list.append(senti)\n",
        "df['sentiments'] = s_list\n",
        "\n",
        "df.to_csv(filename+'_snownlp.csv',index=False, encoding='utf-8-sig')\n",
        "df"
      ],
      "execution_count": null,
      "outputs": [
        {
          "output_type": "execute_result",
          "data": {
            "text/html": [
              "<div>\n",
              "<style scoped>\n",
              "    .dataframe tbody tr th:only-of-type {\n",
              "        vertical-align: middle;\n",
              "    }\n",
              "\n",
              "    .dataframe tbody tr th {\n",
              "        vertical-align: top;\n",
              "    }\n",
              "\n",
              "    .dataframe thead th {\n",
              "        text-align: right;\n",
              "    }\n",
              "</style>\n",
              "<table border=\"1\" class=\"dataframe\">\n",
              "  <thead>\n",
              "    <tr style=\"text-align: right;\">\n",
              "      <th></th>\n",
              "      <th>標題</th>\n",
              "      <th>日期</th>\n",
              "      <th>sentiments</th>\n",
              "    </tr>\n",
              "  </thead>\n",
              "  <tbody>\n",
              "    <tr>\n",
              "      <th>0</th>\n",
              "      <td>[新聞] 台積獲急單 新年好兆頭</td>\n",
              "      <td>2018/1/02</td>\n",
              "      <td>0.856003</td>\n",
              "    </tr>\n",
              "    <tr>\n",
              "      <th>1</th>\n",
              "      <td>[新聞] 台積電上季、去年營收齊寫新猷</td>\n",
              "      <td>2018/1/10</td>\n",
              "      <td>0.064607</td>\n",
              "    </tr>\n",
              "    <tr>\n",
              "      <th>2</th>\n",
              "      <td>Fw: [新聞] 【台積電有多強？】路透全球科技前百強</td>\n",
              "      <td>2018/1/18</td>\n",
              "      <td>0.988293</td>\n",
              "    </tr>\n",
              "    <tr>\n",
              "      <th>3</th>\n",
              "      <td>[新聞] 台積電第4季 EPS 3.83元 去年EPS 13.23元</td>\n",
              "      <td>2018/1/18</td>\n",
              "      <td>0.626400</td>\n",
              "    </tr>\n",
              "    <tr>\n",
              "      <th>4</th>\n",
              "      <td>[新聞] 台積電3平台驅動 今年營收看增15%</td>\n",
              "      <td>2018/1/18</td>\n",
              "      <td>0.971487</td>\n",
              "    </tr>\n",
              "    <tr>\n",
              "      <th>...</th>\n",
              "      <td>...</td>\n",
              "      <td>...</td>\n",
              "      <td>...</td>\n",
              "    </tr>\n",
              "    <tr>\n",
              "      <th>1059</th>\n",
              "      <td>[新聞] 台積電：不排除赴高雄投資 但不是馬上去</td>\n",
              "      <td>2020/12/29</td>\n",
              "      <td>0.496223</td>\n",
              "    </tr>\n",
              "    <tr>\n",
              "      <th>1060</th>\n",
              "      <td>[新聞] 台積電衝5奈米 傳明年12吋晶圓每月超過9W</td>\n",
              "      <td>2020/12/29</td>\n",
              "      <td>0.101687</td>\n",
              "    </tr>\n",
              "    <tr>\n",
              "      <th>1061</th>\n",
              "      <td>[新聞] 台積電攻上519元　指數飆14555點歷史新高</td>\n",
              "      <td>2020/12/30</td>\n",
              "      <td>0.423419</td>\n",
              "    </tr>\n",
              "    <tr>\n",
              "      <th>1062</th>\n",
              "      <td>[新聞] 台積電站上525元改寫收盤新高價</td>\n",
              "      <td>2020/12/30</td>\n",
              "      <td>0.003193</td>\n",
              "    </tr>\n",
              "    <tr>\n",
              "      <th>1063</th>\n",
              "      <td>[新聞] 封關日台積電股價創高 年初買1張賺19.9萬</td>\n",
              "      <td>2020/12/31</td>\n",
              "      <td>0.410423</td>\n",
              "    </tr>\n",
              "  </tbody>\n",
              "</table>\n",
              "<p>1064 rows × 3 columns</p>\n",
              "</div>"
            ],
            "text/plain": [
              "                                      標題          日期  sentiments\n",
              "0                       [新聞] 台積獲急單 新年好兆頭   2018/1/02    0.856003\n",
              "1                    [新聞] 台積電上季、去年營收齊寫新猷   2018/1/10    0.064607\n",
              "2            Fw: [新聞] 【台積電有多強？】路透全球科技前百強   2018/1/18    0.988293\n",
              "3     [新聞] 台積電第4季 EPS 3.83元 去年EPS 13.23元   2018/1/18    0.626400\n",
              "4                [新聞] 台積電3平台驅動 今年營收看增15%   2018/1/18    0.971487\n",
              "...                                  ...         ...         ...\n",
              "1059            [新聞] 台積電：不排除赴高雄投資 但不是馬上去  2020/12/29    0.496223\n",
              "1060         [新聞] 台積電衝5奈米 傳明年12吋晶圓每月超過9W  2020/12/29    0.101687\n",
              "1061        [新聞] 台積電攻上519元　指數飆14555點歷史新高  2020/12/30    0.423419\n",
              "1062               [新聞] 台積電站上525元改寫收盤新高價  2020/12/30    0.003193\n",
              "1063         [新聞] 封關日台積電股價創高 年初買1張賺19.9萬  2020/12/31    0.410423\n",
              "\n",
              "[1064 rows x 3 columns]"
            ]
          },
          "metadata": {
            "tags": []
          },
          "execution_count": 7
        }
      ]
    },
    {
      "cell_type": "code",
      "metadata": {
        "id": "7JDsx8DuQNzC"
      },
      "source": [
        "\n",
        "# idx = pd.date_range('2020-01-01', '2020-12-31')\n",
        "# df_senti_average = df.groupby('date').sentiments.mean()\n",
        "# df_features = pd.DataFrame()\n",
        "# df_features['sentiments'] = df_senti_average\n",
        "# # df_features['subjects'] = subject_count\n",
        "# df_features.index = pd.DatetimeIndex(df_features.index)\n",
        "# df_features = df_features.reindex(idx, fill_value=0)\n",
        "# df_features"
      ],
      "execution_count": null,
      "outputs": []
    },
    {
      "cell_type": "code",
      "metadata": {
        "id": "ZUrXbdtLcsf4"
      },
      "source": [
        "\n",
        "# subject_count.index = pd.DatetimeIndex(subject_count.index)\n",
        "# subject_count = subject_count.reindex(idx, fill_value=0)\n",
        "# df_features['subjects'] = subject_count\n",
        "# df_features = df_features.reset_index()\n"
      ],
      "execution_count": null,
      "outputs": []
    },
    {
      "cell_type": "code",
      "metadata": {
        "id": "sa_JCAWlZyMV"
      },
      "source": [
        "# zero_idx = np.where(df_features['sentiments'] == 0)\r\n",
        "# zero_idx[0][0]\r\n",
        "# for idx in zero_idx[0]:\r\n",
        "#   # print(idx)\r\n",
        "#   df_features.iloc[idx] = df_features.iloc[idx-1]\r\n",
        "  "
      ],
      "execution_count": null,
      "outputs": []
    },
    {
      "cell_type": "code",
      "metadata": {
        "id": "0a1T4YNaer_t"
      },
      "source": [
        "\n",
        "# df_features.to_csv('TSMC_snownlp.csv',index=False)\n"
      ],
      "execution_count": null,
      "outputs": []
    },
    {
      "cell_type": "code",
      "metadata": {
        "id": "6tg3I1mXby6d"
      },
      "source": [
        ""
      ],
      "execution_count": null,
      "outputs": []
    }
  ]
}